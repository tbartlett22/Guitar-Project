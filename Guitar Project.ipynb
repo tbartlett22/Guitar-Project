{
 "cells": [
  {
   "cell_type": "code",
   "execution_count": 1,
   "metadata": {},
   "outputs": [],
   "source": [
    "import numpy as np\n",
    "import matplotlib.pyplot as plt\n",
    "from mpl_toolkits.mplot3d import Axes3D"
   ]
  },
  {
   "cell_type": "markdown",
   "metadata": {},
   "source": [
    "In this project, I will be modeling the pickup and tone knob of an electric guitar. The pickup is an application of Faraday's Law, while the tone knob is an alternating current RC circuit, where the power supply is the output of the pickup. This will be broken down into several components, the first of which is to model a single guitar string vibrating over a single coil pickup.\n",
    "The string will be modeled as a point-like magnetic dipole which has a moment of $1 \\text{ Am}^2$. The strength of the dipole is essentially arbitrary, since we only care about the rate of change in flux, which really only depends on the frequency of vibration.\n",
    "\n",
    "We can model the field around such a dipole using the vector equation below:\n",
    "$$\\vec{B} = \\frac{1}{r^3}[3(\\vec{\\mu} \\cdot \\hat{r})\\hat{r} - \\vec{\\mu}]$$\n",
    "\n",
    "This allows us to easily model the vector value of the B field through the coil without having to worry about modeling the dipole as a current loop and having to integrate the Biot-Savart Law"
   ]
  },
  {
   "cell_type": "markdown",
   "metadata": {},
   "source": [
    "We will start by creating a class to represent the coil with a single oscillating string. Later, we will be able to create an instance of this class for each string in order to model an entire six-string guitar.\n",
    "\n",
    "The coil itself will be modeled as a square loop of wire, having many loops, but no physical thickness so that we can only worry about the flux through a plane, as opposed to many planes corresponding to many loops. While the closest end of the pickup is roughly 5 mm from the string, because we are treating all the loops of the wire to fit into the same space in the z dimension, we will say that the average location of the pickup coils is approximately 1.6 cm from the string.\n",
    "\n",
    "Before we make the actual class for the pickup, it makes sense to make a helper class to hold all the relevant data for a point in this cross section."
   ]
  },
  {
   "cell_type": "code",
   "execution_count": 2,
   "metadata": {},
   "outputs": [],
   "source": [
    "def B(r, mu):\n",
    "    '''Returns the vector for the B field at a point given r, the direction vector from the dipole,\n",
    "       and mu, the vector form of the dipole moment'''\n",
    "    r_mag = np.linalg.norm(r);\n",
    "    r_hat = r / r_mag\n",
    "    return 1/r_mag**3 * (3*(np.dot(mu, r_hat)*r_hat) - mu)"
   ]
  },
  {
   "cell_type": "code",
   "execution_count": 11,
   "metadata": {},
   "outputs": [],
   "source": [
    "class Location:\n",
    "    '''Contains the position vector and B field vector corresponding to a point in the plane of the coil'''\n",
    "    def __init__(self, x, y):\n",
    "        '''Initializes a point given an x and y coordinate (z is always zero)'''\n",
    "        self.pos = np.array([x, y, 0])\n",
    "        self.B = np.array([0, 0, 0])\n",
    "        \n",
    "    def update_B(self, mu, z):\n",
    "        '''Calculates the B field vector at a point, given mu, the vector of the dipole moment,\n",
    "            and z, the z coordinate of the string (we assume it only vibrates in the z dimension)\n",
    "            Returns the change in the field as a vector'''\n",
    "        r = np.array([self.pos[0], self.pos[1], -z])\n",
    "        old = self.B\n",
    "        self.B = B(r, mu)\n",
    "        return self.B - old\n",
    "    \n",
    "    def update_flux(self, mu, z, dx):\n",
    "        '''returns the change in flux at given point'''\n",
    "        return self.update_B(mu, z)[2]*dx**2"
   ]
  },
  {
   "cell_type": "code",
   "execution_count": 37,
   "metadata": {},
   "outputs": [],
   "source": [
    "class Pickup:\n",
    "    '''Essentially houses a 2-D numpy arrays of Location objects and some other information, \n",
    "        such as the dimensions of the array, and the rest z coordinate of the string and the number of loops'''\n",
    "    def __init__(self, mu_val):\n",
    "        self.N = 2000\n",
    "        self.dx = 0.0001\n",
    "        self.min = -0.002\n",
    "        self.max = 0.002\n",
    "        self.npoints = int((self.max - self.min)/self.dx)\n",
    "        self.x = np.arange(self.min, self.max, self.dx)\n",
    "        self.y = np.arange(self.min, self.max, self.dx)\n",
    "        self.z0 = 0.015\n",
    "        self.dt = 0.0002\n",
    "        self.mu = np.array([0, 0, mu_val])\n",
    "        #Forgive me for being bad with numpy arrays, but the ways of C++ are too well engrained in \n",
    "        #my head for me to not use loops, even though I know they run slower\n",
    "        self.plane = np.ndarray(shape = (self.npoints, self.npoints), dtype = Location)\n",
    "        for (i, j), loc in np.ndenumerate(self.plane):\n",
    "            x = self.min + i*self.dx\n",
    "            \n",
    "            y = self.min + j*self.dx\n",
    "            \n",
    "            self.plane[i][j] = Location(x, y)\n",
    "            \n",
    "    def get_dflux(self, mu, z):\n",
    "        '''returns the change in flux through the plane given a dipole moment mu and dipole z coordinate'''\n",
    "        dflux = 0\n",
    "        for (i, j), loc in np.ndenumerate(self.plane):\n",
    "            dflux += self.plane[i][j].update_flux(mu, z, self.dx)\n",
    "        return dflux\n",
    "    \n",
    "    def induced_emf(self, mu, z, dt):\n",
    "        '''returns the emf created at a given instantaneous position of the string. Functions called internally\n",
    "            calculate the change in flux by comparing to the previous value of the B field'''\n",
    "        return -1*self.N*self.get_dflux(mu,z)/dt\n",
    "    \n",
    "    def vibrate(self, vib_func, A, t_max=1):\n",
    "        '''main driver function that outputs voltage over time given a vibration function and amplitude,\n",
    "            t is assumed to start at zero and go until t_max, with step self.dt'''\n",
    "        t_arr = np.arange(0, t_max, self.dt)\n",
    "        V_arr = np.zeros(np.shape(t_arr))\n",
    "        \n",
    "        for i, t in enumerate(t_arr):\n",
    "            z = vib_func(t, A) + self.z0\n",
    "            V_arr[i] = self.induced_emf(self.mu, z, self.dt)\n",
    "            if i == 0:\n",
    "                V_arr[i] = 0\n",
    "        return V_arr"
   ]
  },
  {
   "cell_type": "code",
   "execution_count": 31,
   "metadata": {},
   "outputs": [],
   "source": [
    "def note_2low_E(t, A):\n",
    "    '''Takes in a time value, t, and an amplitude, A, and returns the displacement from equilibrium\n",
    "        of a string vibrating at a the 2nd E below middle C, or 82.41 Hz. This is the frequency of the bottom\n",
    "        note of a guitar'''\n",
    "    f = 82.41\n",
    "    omega = 2*np.pi*f\n",
    "    z = A * np.sin(omega*t) * 2**(-t)\n",
    "    \n",
    "    return z"
   ]
  },
  {
   "cell_type": "code",
   "execution_count": 32,
   "metadata": {},
   "outputs": [],
   "source": [
    "def note_2low_A(t, A):\n",
    "    '''Takes in a time value, t, and an amplitude, A, and returns the displacement from equilibrium\n",
    "        of a string vibrating at a the 2nd A below middle C, or 110 Hz. This is the frequency of the bottom\n",
    "        note of the second string of a guitar'''\n",
    "    f = 110\n",
    "    omega = 2*np.pi*f\n",
    "    z = A * np.sin(omega*t) * 2**(-t)\n",
    "    \n",
    "    return z"
   ]
  },
  {
   "cell_type": "code",
   "execution_count": 33,
   "metadata": {},
   "outputs": [],
   "source": [
    "def note_low_D(t, A):\n",
    "    '''Takes in a time value, t, and an amplitude, A, and returns the displacement from equilibrium\n",
    "        of a string vibrating at a the D below middle C, or 146.83 Hz. This is the frequency of the bottom\n",
    "        note of the third string of a guitar'''\n",
    "    f = 146.83\n",
    "    omega = 2*np.pi*f\n",
    "    z = A * np.sin(omega*t) * 2**(-t)\n",
    "    \n",
    "    return z"
   ]
  },
  {
   "cell_type": "code",
   "execution_count": 34,
   "metadata": {},
   "outputs": [],
   "source": [
    "def note_low_G(t, A):\n",
    "    '''Takes in a time value, t, and an amplitude, A, and returns the displacement from equilibrium\n",
    "        of a string vibrating at a the G below middle C, or 196 Hz. This is the frequency of the bottom\n",
    "        note of the fourth string of a guitar'''\n",
    "    f = 196\n",
    "    omega = 2*np.pi*f\n",
    "    z = A * np.sin(omega*t) * 2**(-t)\n",
    "    \n",
    "    return z"
   ]
  },
  {
   "cell_type": "code",
   "execution_count": 35,
   "metadata": {},
   "outputs": [],
   "source": [
    "def note_middle_B(t, A):\n",
    "    '''Takes in a time value, t, and an amplitude, A, and returns the displacement from equilibrium\n",
    "        of a string vibrating at a the B below middle C, or 246.94 Hz. This is the frequency of the bottom\n",
    "        note of the fifth string of a guitar'''\n",
    "    f = 246.94\n",
    "    omega = 2*np.pi*f\n",
    "    z = A * np.sin(omega*t) * 2**(-t)\n",
    "    \n",
    "    return z"
   ]
  },
  {
   "cell_type": "code",
   "execution_count": 36,
   "metadata": {},
   "outputs": [],
   "source": [
    "def note_middle_E(t, A):\n",
    "    '''Takes in a time value, t, and an amplitude, A, and returns the displacement from equilibrium\n",
    "        of a string vibrating at a the E above middle C, or 329.63 Hz. This is the frequency of the bottom\n",
    "        note of the highest string of a guitar'''\n",
    "    f = 329.63\n",
    "    omega = 2*np.pi*f\n",
    "    z = A * np.sin(omega*t) * 2**(-t)\n",
    "    \n",
    "    return z"
   ]
  },
  {
   "cell_type": "code",
   "execution_count": 39,
   "metadata": {
    "scrolled": false
   },
   "outputs": [
    {
     "data": {
      "text/plain": [
       "[<matplotlib.lines.Line2D at 0x1d1422fdac8>]"
      ]
     },
     "execution_count": 39,
     "metadata": {},
     "output_type": "execute_result"
    },
    {
     "data": {
      "image/png": "[encoded data removed]",
      "text/plain": [
       "<Figure size 432x288 with 1 Axes>"
      ]
     },
     "metadata": {
      "needs_background": "light"
     },
     "output_type": "display_data"
    }
   ],
   "source": [
    "pic1 = Pickup(3.01e-4)\n",
    "pic2 = Pickup(2.71e-4)\n",
    "pic3 = Pickup(2.11e-4)\n",
    "pic4 = Pickup(1.5e-4)\n",
    "pic5 = Pickup(9.03e-5)\n",
    "pic6 = Pickup(6.02e-5)\n",
    "t_max = 0.1\n",
    "t = np.arange(0, t_max, pic1.dt)\n",
    "V1 = pic1.vibrate(note_low_E, 0.00025, t_max)\n",
    "V2 = pic2.vibrate(note_low_A, 0.00025, t_max)\n",
    "V3 = pic3.vibrate(note_low_D, 0.00025, t_max)\n",
    "V4 = pic4.vibrate(note_low_G, 0.00025, t_max)\n",
    "V5 = pic5.vibrate(note_middle_B, 0.00025, t_max)\n",
    "V6 = pic6.vibrate(note_middle_E, 0.00025, t_max)\n",
    "plt.plot(t, V1 + V2 + V3 + V4 + V5 + V6)"
   ]
  },
  {
   "cell_type": "code",
   "execution_count": null,
   "metadata": {},
   "outputs": [],
   "source": []
  }
 ],
 "metadata": {
  "kernelspec": {
   "display_name": "Python 3",
   "language": "python",
   "name": "python3"
  },
  "language_info": {
   "codemirror_mode": {
    "name": "ipython",
    "version": 3
   },
   "file_extension": ".py",
   "mimetype": "text/x-python",
   "name": "python",
   "nbconvert_exporter": "python",
   "pygments_lexer": "ipython3",
   "version": "3.7.4"
  }
 },
 "nbformat": 4,
 "nbformat_minor": 2
}
