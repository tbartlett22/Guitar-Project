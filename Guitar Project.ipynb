{
 "cells": [
  {
   "cell_type": "code",
   "execution_count": 4,
   "metadata": {},
   "outputs": [],
   "source": [
    "import numpy as np\n",
    "import matplotlib.pyplot as plt\n",
    "from mpl_toolkits.mplot3d import Axes3D"
   ]
  },
  {
   "cell_type": "markdown",
   "metadata": {},
   "source": [
    "In this project, I will be modeling the pickup and tone knob of an electric guitar. The pickup is an application of Faraday's Law, while the tone knob is an alternating current RC circuit, where the power supply is the output of the pickup. This will be broken down into several components, the first of which is to model a single guitar string vibrating over a single coil pickup.\n",
    "The string will be modeled as a point-like magnetic dipole which has a moment of $1 \\text{ Am}^2$. The strength of the dipole is essentially arbitrary, since we only care about the rate of change in flux, which really only depends on the frequency of vibration.\n",
    "\n",
    "We can model the field around such a dipole using the vector equation below:\n",
    "$$\\vec{B} = \\frac{1}{r^3}[3(\\vec{\\mu} \\cdot \\hat{r})\\hat{r} - \\vec{\\mu}]$$\n",
    "\n",
    "This allows us to easily model the vector value of the B field through the coil without having to worry about modeling the dipole as a current loop and having to integrate the Biot-Savart Law"
   ]
  },
  {
   "cell_type": "markdown",
   "metadata": {},
   "source": [
    "We will start by creating a class to represent the coil with a single oscillating string. Later, we will be able to create an instance of this class for each string in order to model an entire six-string guitar.\n",
    "\n",
    "The coil itself will be modeled as a square loop of wire, having many loops, but no physical thickness so that we can only worry about the flux through a plane, as opposed to many planes corresponding to many loops.\n",
    "\n",
    "Before we make the actual class for the pickup, it makes sense to make a helper class to hold all the relevant data for a point in this cross section."
   ]
  },
  {
   "cell_type": "code",
   "execution_count": 5,
   "metadata": {},
   "outputs": [],
   "source": [
    "def B(r, mu):\n",
    "    '''Returns the vector for the B field at a point given r, the direction vector from the dipole,\n",
    "       and mu, the vector form of the dipole moment'''\n",
    "    r_mag = np.linalg.norm(r);\n",
    "    r_hat = r / r_mag\n",
    "    return 1/r_mag**3 * (3*(np.dot(mu, r_hat)*r_hat) - mu)"
   ]
  },
  {
   "cell_type": "code",
   "execution_count": 13,
   "metadata": {},
   "outputs": [],
   "source": [
    "class Location:\n",
    "    '''Contains the position vector and B field vector corresponding to a point in the plane of the coil'''\n",
    "    def __init__(self, x, y):\n",
    "        '''Initializes a point given an x and y coordinate (z is always zero)'''\n",
    "        self.pos = np.array([x, y, 0])\n",
    "        self.B = np.array([0, 0, 0])\n",
    "        \n",
    "    def update_B(mu, z):\n",
    "        '''Calculates the B field vector at a point, given mu, the vector of the dipole moment,\n",
    "            and z, the z coordinate of the string (we assume it only vibrates in the z dimension)'''\n",
    "        r = np.array([self.x, self.y, -z])\n",
    "        self.B = B(r, mu)\n",
    "    "
   ]
  },
  {
   "cell_type": "code",
   "execution_count": 55,
   "metadata": {},
   "outputs": [],
   "source": [
    "class Pickup:\n",
    "    '''Essentially houses a 2-D numpy arrays of Location objects and some other information, \n",
    "        such as the dimensions of the array, and the rest z coordinate of the string and the number of loops'''\n",
    "    def __init__(self):\n",
    "        self.N = 1000\n",
    "        self.dx = 0.0001\n",
    "        self.min = -0.005\n",
    "        self.max = 0.005\n",
    "        self.npoints = int((self.max - self.min)/self.dx)\n",
    "        self.x = np.arange(self.min, self.max, self.dx)\n",
    "        self.y = np.arange(self.min, self.max, self.dx)\n",
    "        #Forgive me for being bad with numpy arrays, but the ways of C++ are too well engrained in \n",
    "        #my head for me to not use loops\n",
    "        self.plane = np.ndarray(shape = (self.npoints, self.npoints), dtype = Location)\n",
    "        for (i, j), loc in np.ndenumerate(self.plane):\n",
    "            x = self.min + i*self.dx\n",
    "            \n",
    "            y = self.min + j*self.dx\n",
    "            \n",
    "            self.plane[i][j] = Location(x, y)"
   ]
  }
 ],
 "metadata": {
  "kernelspec": {
   "display_name": "Python 3",
   "language": "python",
   "name": "python3"
  },
  "language_info": {
   "codemirror_mode": {
    "name": "ipython",
    "version": 3
   },
   "file_extension": ".py",
   "mimetype": "text/x-python",
   "name": "python",
   "nbconvert_exporter": "python",
   "pygments_lexer": "ipython3",
   "version": "3.7.4"
  }
 },
 "nbformat": 4,
 "nbformat_minor": 2
}
